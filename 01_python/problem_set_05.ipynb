{
 "cells": [
  {
   "cell_type": "markdown",
   "metadata": {},
   "source": [
    "# 최대공약수, 최소공배수 구하기\n",
    "\n",
    "> 두 수를 입력받아 두 수의 최대공약수와 최소공배수를 반환하는 함수 `gcdlcm`을 작성하세요.\n",
    ">\n",
    "> 배열의 맨 앞에 최대공약수, 그 다음 최소공배수를 넣어 반환하세요. \n",
    ">\n",
    "> 예를 들어 두 수 3, 12의 최대공약수는 3, 최소공배수는 12이므로 `gcdlcm(3, 12)`는 `(3, 12)`를 반환해야 합니다. \n",
    "\n",
    "---\n",
    "\n",
    "예시)\n",
    "\n",
    "```python\n",
    "print(gcdlcm(3, 12)) #=> (3, 12)\n",
    "print(gcdlcm(1071, 1029)) #=> (21, 52479)\n",
    "```"
   ]
  },
  {
   "cell_type": "code",
   "execution_count": 1,
   "metadata": {},
   "outputs": [],
   "source": [
    "def gcdlcm(x, y):\n",
    "    big, small = (x, y) if x > y else (y, x)\n",
    "        \n",
    "    # 최대공약수\n",
    "    for gcd in range(small, 2, -1):\n",
    "        if small % gcd == 0 and big % gcd == 0:\n",
    "            break\n",
    "    \n",
    "    # 최소공배수\n",
    "    lcm = big * small / gcd\n",
    "    \n",
    "    return gcd, int(lcm)\n",
    "    "
   ]
  },
  {
   "cell_type": "code",
   "execution_count": 2,
   "metadata": {},
   "outputs": [
    {
     "name": "stdout",
     "output_type": "stream",
     "text": [
      "(3, 12)\n",
      "(21, 52479)\n"
     ]
    }
   ],
   "source": [
    "# 해당 코드를 통해 올바른 결과가 나오는지 확인하세요.\n",
    "print(gcdlcm(3, 12))       # (3, 12)\n",
    "print(gcdlcm(1071, 1029))  # (21, 52479)"
   ]
  },
  {
   "cell_type": "markdown",
   "metadata": {},
   "source": [
    "# 불쌍한 달팽이 - 고전 수학문제\n",
    "\n",
    "> 달팽이는 낮 시간 동안에 기둥을 올라갑니다. 하지만 밤에는 잠을 자면서 어느 정도의 거리만큼 미끄러집니다. (낮 시간 동안 올라간 거리보다는 적게 미끄러집니다.)\n",
    "> \n",
    "> 달팽이가 기둥의 꼭대기에 도달하는 날까지 걸리는 시간을 반환하는 함수를 작성하세요.\n",
    "\n",
    "> 함수의 인자는 다음과 같습니다.\n",
    "1. 기둥의 높이(미터)\n",
    "2. 낮 시간 동안 달팽이가 올라가는 거리(미터)\n",
    "3. 달팽이가 야간에 잠을 자는 동안 미끄러지는 거리(미터)\n",
    "\n",
    "---\n",
    "\n",
    "예시)\n",
    "```python\n",
    "snail(100, 5, 2)\n",
    "# => 33\n",
    "```"
   ]
  },
  {
   "cell_type": "code",
   "execution_count": 3,
   "metadata": {},
   "outputs": [],
   "source": [
    "# 기둥높이, 올라가는 높이, 내려오는 높이\n",
    "def snail(pillar, up, down):\n",
    "    days = 0\n",
    "    # n 에 지금까지 올라간 높이를 쌓기\n",
    "    n = 0\n",
    "    \n",
    "    while True:\n",
    "        days += 1\n",
    "        n += up\n",
    "        if n >= pillar:\n",
    "            return days\n",
    "        n -= down"
   ]
  },
  {
   "cell_type": "code",
   "execution_count": 5,
   "metadata": {},
   "outputs": [],
   "source": [
    "def snail(pillar, up, down):\n",
    "    days = 0\n",
    "    \n",
    "    while 1:\n",
    "        days += 1\n",
    "        # 기둥에서 숫자를 빼기\n",
    "        pillar -= up\n",
    "        if pillar <= 0:\n",
    "            return days\n",
    "        pillar += down"
   ]
  },
  {
   "cell_type": "code",
   "execution_count": 4,
   "metadata": {},
   "outputs": [
    {
     "name": "stdout",
     "output_type": "stream",
     "text": [
      "33\n"
     ]
    }
   ],
   "source": [
    "print(snail(100, 5, 2))   # 33"
   ]
  },
  {
   "cell_type": "markdown",
   "metadata": {},
   "source": [
    "# 무엇이 중복일까\n",
    "\n",
    "> 다음 리스트에서 중복되는 요소만 뽑아서 새로운 리스트를 반환하는 함수를 작성하세요.\n",
    "\n",
    "---\n",
    "\n",
    "예시)\n",
    "\n",
    "```python\n",
    "duplicated(['a', 'b', 'c', 'b', 'd', 'm', 'n', 'n', 'b'])\n",
    "\n",
    "['b', 'n']\n",
    "```"
   ]
  },
  {
   "cell_type": "code",
   "execution_count": 7,
   "metadata": {},
   "outputs": [],
   "source": [
    "def duplicated(chars):\n",
    "    \n",
    "    # 알파벳의 개수를 셀 dict\n",
    "    # {'a': 1, 'b': 3, 'c': 1, ...} => 이런 모양으로 완성됨\n",
    "    char_count = {}\n",
    "    \n",
    "    for char in chars:\n",
    "        # 만약 dict에 이미 해당 알파벳이 key로 있으면\n",
    "        if char in char_count:\n",
    "            # 해당 알파벳의 등장 회수 +1\n",
    "            char_count[char] += 1\n",
    "        # dict에 해당 알파벳이 없으면(처음 등장이면)\n",
    "        else:\n",
    "            # 해당 알파벳을 dict에 등록하고 value로 1설정\n",
    "            char_count[char] = 1\n",
    "    \n",
    "    # 답을 모을 리스트\n",
    "    answer = []\n",
    "    # k는 알파벳, v는 등장 회수\n",
    "    for k, v in char_count.items():\n",
    "        # 등장회수(v)가 1보다 크다면\n",
    "        if v > 1:\n",
    "            # 그 알파벳을 리스트에 추가\n",
    "            answer.append(k)\n",
    "            \n",
    "    return answer"
   ]
  },
  {
   "cell_type": "code",
   "execution_count": 8,
   "metadata": {},
   "outputs": [],
   "source": [
    "def duplicated(chars):\n",
    "    # 한번이라도 등장한 문자열 모으는 list\n",
    "    registered = []\n",
    "    answer = []\n",
    "    \n",
    "    # 알파벳 순회하며\n",
    "    for char in chars:\n",
    "        # 등장한 적 없는 알파벳이면\n",
    "        if char not in registered:\n",
    "            # 등장 사실 기록\n",
    "            registered.append(char)\n",
    "        # 등장한 적은 있으나, 답에는 없다면\n",
    "        elif char not in answer:\n",
    "            # 답에 추가\n",
    "            answer.append(char)\n",
    "    \n",
    "    return answer"
   ]
  },
  {
   "cell_type": "code",
   "execution_count": null,
   "metadata": {},
   "outputs": [],
   "source": [
    "\n",
    "def duplicated(chars):\n",
    "    # 알파벳에서 중복 제거\n",
    "    uniqs = set(chars)\n",
    "    \n",
    "    # 중복 없는 상태에서 하나씩 순회하며\n",
    "    for uniq in uniqs:\n",
    "        # 그 알파벳을 지운다. => 한번만 등장한 알파벳 모두 사라짐\n",
    "        chars.remove(uniq)\n",
    "        \n",
    "    # 3번 이상 등장한 알파벳들은 삭제 후에 2개 이상 남아있으므로\n",
    "    # set으로 중복을 제거 => 다시 list로 변환 => 정렬(굳이 필요없음)\n",
    "    return sorted(list(set(chars)))"
   ]
  },
  {
   "cell_type": "code",
   "execution_count": 9,
   "metadata": {},
   "outputs": [],
   "source": [
    "def duplicated(chars):\n",
    "    check = ''\n",
    "    \n",
    "    def check_dup(char):\n",
    "        # check 가 global에 있지는 않지만\n",
    "        # 상위 함수에 있을 때는 nonlocal을 사용\n",
    "        nonlocal check\n",
    "        if chars.count(char) > 1 and char not in check:\n",
    "            check += char\n",
    "            return True\n",
    "        else:\n",
    "            check += char\n",
    "            return False\n",
    "    \n",
    "    # 필터 함수를 활용할 수 있다.\n",
    "    return list(filter(check_dup, chars))"
   ]
  },
  {
   "cell_type": "code",
   "execution_count": null,
   "metadata": {},
   "outputs": [],
   "source": [
    "def duplicated(chars):\n",
    "    # 좋은 코드 아님!\n",
    "    # 필터 사용 가능 => 람다로 전환 가능을 보기 위함\n",
    "    return list(set(filter(lambda char: chars.count(char) > 1, chars)))"
   ]
  },
  {
   "cell_type": "code",
   "execution_count": null,
   "metadata": {},
   "outputs": [],
   "source": [
    "# 해당 코드를 통해 올바른 결과가 나오는지 확인하세요.\n",
    "duplicated(['a', 'b', 'c', 'b', 'd', 'm', 'n', 'n', 'b'])  # ['b', 'n']"
   ]
  },
  {
   "cell_type": "markdown",
   "metadata": {},
   "source": [
    "# 알파벳만 남기고 뒤집기\n",
    "\n",
    "> 문자열이 주어지면, 해당 문자열 중에서 알파벳이 아닌 문자는 전부 빼고 거꾸로 뒤집어 반환하는 함수를 작성하세요.\n",
    "\n",
    "---\n",
    "\n",
    "예시)\n",
    "\n",
    "```python\n",
    "reverse_letter('krishan')\n",
    "'nahsirk'\n",
    "\n",
    "reverse_letter('ultr53o?n')\n",
    "'nortlu'\n",
    "```"
   ]
  },
  {
   "cell_type": "code",
   "execution_count": 10,
   "metadata": {},
   "outputs": [],
   "source": [
    "def reverse_letter(word):\n",
    "    answer = ''\n",
    "    \n",
    "    for char in word:\n",
    "        if 'a' <= char <= 'z' or 'A' <= char <= 'Z':\n",
    "            answer += char\n",
    "    \n",
    "    return answer[::-1]"
   ]
  },
  {
   "cell_type": "code",
   "execution_count": 11,
   "metadata": {},
   "outputs": [],
   "source": [
    "def reverse_letter(word):\n",
    "    answer = ''\n",
    "    \n",
    "    for char in word:\n",
    "        if char.isalpha():\n",
    "            # 마지막에 뒤집지 않고 처음부터 거꾸로 쌓기\n",
    "            answer = char + answer\n",
    "    \n",
    "    return answer"
   ]
  },
  {
   "cell_type": "code",
   "execution_count": null,
   "metadata": {},
   "outputs": [],
   "source": [
    "# 해당 코드를 통해 올바른 결과가 나오는지 확인하세요.\n",
    "print(reverse_letter('krishan'))    # nahsirk\n",
    "print(reverse_letter('ultr53o?n'))  # nortlu"
   ]
  },
  {
   "cell_type": "markdown",
   "metadata": {},
   "source": [
    "# 숫자패턴\n",
    "\n",
    ">원하는 행까지 아래의 패턴을 생성하는 함수를 작성하세요. 만약 인자가 0이나 음의 정수인 경우 빈 문자열(`''`)을 반환하세요.\n",
    "> \n",
    "> 짝수가 인수로 전달되면 패턴은 통과된 짝수보다 작은 최대 홀수까지 계속되어야 합니다.\n",
    "\n",
    "---\n",
    "\n",
    "예시)\n",
    "\n",
    "```python\n",
    "print(pattern(9)):\n",
    "\n",
    "1\n",
    "333\n",
    "55555\n",
    "7777777\n",
    "999999999\n",
    "\n",
    "print(pattern(6))\n",
    "1\n",
    "333\n",
    "55555\n",
    "```\n",
    "**유의) 패턴에 공백은 없습니다.**"
   ]
  },
  {
   "cell_type": "code",
   "execution_count": 13,
   "metadata": {},
   "outputs": [],
   "source": [
    "def pattern(n):\n",
    "    answer = ''\n",
    "    \n",
    "    if n <= 0:\n",
    "        return answer\n",
    "    \n",
    "    # 홀수면 1 증가 => range에 들어가면 다시 1 감소하기 때문\n",
    "    # 짝수면 그대로 range에 들어가면 1 감소하여 홀수가 됨\n",
    "    if n % 2:\n",
    "        n += 1\n",
    "    \n",
    "    # 한줄 만들고, 마지막에 엔터(\\n) 추가하기\n",
    "    for i in range(1, n):\n",
    "        if i % 2:\n",
    "            answer += f'{i}' * i + '\\n'\n",
    "            \n",
    "    return answer\n",
    "    # 만약 맨 마지막 \\n을 빼고싶다면? rstrip() => 오른쪽 공백관련 문자열 제거\n",
    "    # return answer.rstrip() "
   ]
  },
  {
   "cell_type": "code",
   "execution_count": 14,
   "metadata": {},
   "outputs": [
    {
     "name": "stdout",
     "output_type": "stream",
     "text": [
      "1\n",
      "333\n",
      "55555\n",
      "7777777\n",
      "999999999\n",
      "\n",
      "1\n",
      "333\n",
      "55555\n",
      "\n"
     ]
    }
   ],
   "source": [
    "# 해당 코드를 통해 올바른 결과가 나오는지 확인하세요.\n",
    "print(pattern(9))\n",
    "print(pattern(6))"
   ]
  },
  {
   "cell_type": "markdown",
   "metadata": {},
   "source": [
    "# 숫자가 좋아\n",
    "\n",
    "> 섞여있는 문자열 속에서 정수만 뽑아내 합을 반환하는 함수 `pick_and_sum(words)`를 작성하세요.\n",
    "\n",
    "---\n",
    "\n",
    "예시)\n",
    "```python\n",
    "pick_and_sum('The30quick20brown10f0x1203jumps914ov3r1349the102l4zy dog') #=> 3635\n",
    "```"
   ]
  },
  {
   "cell_type": "code",
   "execution_count": 15,
   "metadata": {},
   "outputs": [],
   "source": [
    "def pick_and_sum(word):\n",
    "    total = 0\n",
    "    \n",
    "    # 숫자로 이루어진 글자를 모을 빈 문자열\n",
    "    numstr = ''\n",
    "    \n",
    "    for char in word:\n",
    "        # 숫자로 이루어진 글자면\n",
    "        if char.isnumeric():\n",
    "            # numstr에 쌓아나감\n",
    "            numstr += char\n",
    "        # 더이상 숫자로 이루어진 글자가 아니고 \n",
    "        # 기존에 쌓아놓은 numstr가 내용이 있으면 (elif len(numstr) != 0 과 같음)\n",
    "        elif numstr:\n",
    "            # 정수로 바꿔서 누적\n",
    "            total += int(numstr)\n",
    "            # 문자열 비우고 처음부터\n",
    "            numstr = ''\n",
    "            \n",
    "    return total "
   ]
  },
  {
   "cell_type": "code",
   "execution_count": null,
   "metadata": {},
   "outputs": [],
   "source": [
    "# 해당 코드를 통해 올바른 결과가 나오는지 확인하세요.\n",
    "print(pick_and_sum('The30quick20brown10f0x1203jumps914ov3r1349the102l4zy dog'))  # 3635"
   ]
  },
  {
   "cell_type": "markdown",
   "metadata": {},
   "source": [
    "# 편-안한 단어 (Hard)\n",
    "\n",
    "> (QWERTY 키보드를 사용하여 타이핑 한다고 가정할 때) '편안한 단어'는 타이핑 할 때 **손을 번갈아 칠 수 있는 단어**를 말합니다.\n",
    ">\n",
    "> 단어를 인자로 받아 그것이 '편안한 단어'인지 여부를 True/False로 반환하는 함수를 작성하세요.\n",
    "* 모든 단어는 a ~ z까지 오름차순으로 구성된 문자열입니다.\n",
    "\n",
    "> 문자 목록\n",
    "- 왼손: q, w, e, r, t, a, s, s, d, f, g, z, x, c, v, b\n",
    "- 오른손: y, u, i, o, p, h, j, k, l, n, m"
   ]
  },
  {
   "cell_type": "code",
   "execution_count": 12,
   "metadata": {},
   "outputs": [],
   "source": [
    "def comfortable_word(word):\n",
    "    right = 'qwertasdfgzxcvb'\n",
    "    left = 'yuiophjklnm'\n",
    "    first_char = word[0]\n",
    "    \n",
    "    # 단어의 첫글자가 오른손부터 시작이면,\n",
    "    if first_char in right:\n",
    "        # r => l => r => l 순으로 확인 필요\n",
    "        hands = [right, left]\n",
    "    \n",
    "    # 단어의 첫글자가 왼손부터 시작이면,\n",
    "    elif first_char in left:\n",
    "        # l => r => l => r 순으로 확인 필요\n",
    "        hands = [left, right]\n",
    "    \n",
    "    \n",
    "    for idx, char in enumerate(word):\n",
    "        # 자동으로 l => r / r => l 교체하며 글자 비교\n",
    "        if char not in hands[idx%2]:\n",
    "            return False\n",
    "    \n",
    "    return True"
   ]
  },
  {
   "cell_type": "code",
   "execution_count": null,
   "metadata": {},
   "outputs": [],
   "source": [
    "# 해당 코드를 통해 올바른 결과가 나오는지 확인하세요.\n",
    "print(comfortable_word('qywu'))  # True L=>R\n",
    "print(comfortable_word('apple'))  # False\n",
    "print(comfortable_word('pqowieur'))  # True  R=>L"
   ]
  }
 ],
 "metadata": {
  "kernelspec": {
   "display_name": "Python 3 (ipykernel)",
   "language": "python",
   "name": "python3"
  },
  "language_info": {
   "codemirror_mode": {
    "name": "ipython",
    "version": 3
   },
   "file_extension": ".py",
   "mimetype": "text/x-python",
   "name": "python",
   "nbconvert_exporter": "python",
   "pygments_lexer": "ipython3",
   "version": "3.10.10"
  },
  "latex_envs": {
   "LaTeX_envs_menu_present": true,
   "autoclose": false,
   "autocomplete": true,
   "bibliofile": "biblio.bib",
   "cite_by": "apalike",
   "current_citInitial": 1,
   "eqLabelWithNumbers": true,
   "eqNumInitial": 1,
   "hotkeys": {
    "equation": "Ctrl-E",
    "itemize": "Ctrl-I"
   },
   "labels_anchors": false,
   "latex_user_defs": false,
   "report_style_numbering": false,
   "user_envs_cfg": false
  },
  "toc": {
   "base_numbering": 1,
   "nav_menu": {},
   "number_sections": true,
   "sideBar": true,
   "skip_h1_title": false,
   "title_cell": "Table of Contents",
   "title_sidebar": "Contents",
   "toc_cell": false,
   "toc_position": {},
   "toc_section_display": true,
   "toc_window_display": false
  },
  "vscode": {
   "interpreter": {
    "hash": "51d354aa4721e008858a28cad10f7efbfd288bcf50ac31411bfc117a31ae17c9"
   }
  }
 },
 "nbformat": 4,
 "nbformat_minor": 4
}
