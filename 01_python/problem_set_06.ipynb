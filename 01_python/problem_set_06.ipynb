{
 "cells": [
  {
   "cell_type": "markdown",
   "metadata": {},
   "source": [
    "# 소대소대\n",
    "\n",
    "> 단어의 짝수번째 알파벳은 대문자로, 홀수번째 알파벳은 소문자로 바꾼 문자열을 return 하는 함수 `up_and_low`을 작성하세요.\n",
    "\n",
    "---\n",
    "\n",
    "예시)\n",
    "```python\n",
    "print(up_and_low('appleppie')) #=> aPpLePiE\n",
    "print(up_and_low('spaceship')) #=> sPaCeShIp\n",
    "```"
   ]
  },
  {
   "cell_type": "code",
   "execution_count": null,
   "metadata": {},
   "outputs": [],
   "source": [
    "# 아래에 코드를 작성하세요."
   ]
  },
  {
   "cell_type": "code",
   "execution_count": 9,
   "metadata": {},
   "outputs": [],
   "source": [
    "def up_and_low(chars):\n",
    "    \n",
    "    answer = ''\n",
    "    \n",
    "    for idx, char in enumerate(chars):\n",
    "        # 짝수번째 (홀수 idx)\n",
    "        if idx % 2:\n",
    "            answer += char.upper()\n",
    "        else:\n",
    "            answer += char.lower()\n",
    "            \n",
    "    return answer"
   ]
  },
  {
   "cell_type": "code",
   "execution_count": null,
   "metadata": {},
   "outputs": [],
   "source": [
    "# 해당 코드를 통해 올바른 결과가 나오는지 확인하세요.\n",
    "print(up_and_low('appleppie'))\n",
    "print(up_and_low('spaceship'))"
   ]
  },
  {
   "cell_type": "code",
   "execution_count": null,
   "metadata": {},
   "outputs": [],
   "source": [
    "def up_and_low(chars):\n",
    "    \n",
    "    def change(idx_char):\n",
    "        # 인자로 뭐가 넘어 왔을까요\n",
    "        print(idx_char)\n",
    "        \n",
    "        idx, char = idx_char\n",
    "        \n",
    "        if idx % 2:\n",
    "            return char.upper()\n",
    "        else:\n",
    "            return char.lower()\n",
    "        \n",
    "    return ''.join(map(change, enumerate(chars)))"
   ]
  },
  {
   "cell_type": "code",
   "execution_count": null,
   "metadata": {},
   "outputs": [],
   "source": [
    "print(up_and_low('appleppie'))\n",
    "print(up_and_low('spaceship'))"
   ]
  },
  {
   "cell_type": "markdown",
   "metadata": {},
   "source": [
    "# 통과한 시험\n",
    "\n",
    "> 딕셔너리 형태로 언어 및 각 테스트의 결과가 주어지면 테스트 점수가 60 이상인 언어 목록의 결과를 내림차순으로 정렬된 리스트를 반환하는 `passpass`함수를 작성하세요. (중복되는 점수는 없습니다.)\n",
    "\n",
    "---\n",
    "\n",
    "예시)\n",
    "\n",
    "```python\n",
    "passpass({'Java': 10, 'Ruby': 80, 'Python': 65}) #=> ['Ruby', 'Python']\n",
    "```"
   ]
  },
  {
   "cell_type": "code",
   "execution_count": null,
   "metadata": {},
   "outputs": [],
   "source": [
    "# 아래에 코드를 작성하세요."
   ]
  },
  {
   "cell_type": "code",
   "execution_count": 7,
   "metadata": {},
   "outputs": [],
   "source": [
    "def passpass(scores):\n",
    "    scores = list(scores.items())\n",
    "    scores.sort(key=lambda score: score[1], reverse=True)\n",
    "    ans = []\n",
    "    for score in scores:\n",
    "        if score[1] >= 60:\n",
    "            ans.append(score[0])\n",
    "\n",
    "    return ans"
   ]
  },
  {
   "cell_type": "code",
   "execution_count": 8,
   "metadata": {},
   "outputs": [
    {
     "name": "stdout",
     "output_type": "stream",
     "text": [
      "['Ruby', 'Python']\n"
     ]
    }
   ],
   "source": [
    "# 해당 코드를 통해 올바른 결과가 나오는지 확인하세요.\n",
    "print(passpass({'Java': 10, 'Ruby': 80, 'Python': 65}))"
   ]
  },
  {
   "cell_type": "markdown",
   "metadata": {},
   "source": [
    "# 삼각수\n",
    "\n",
    "> 삼각수는 1, 1+2, 1+2+3, 1+2+3+4, ... 의 결과에 해당하는 수를 뜻합니다. \n",
    ">\n",
    "> 따라서, 1, 3, 6, 10, 15, 21, 28, 36, 45, 55, 66, 78, 91, 105, 120,..는 삼각수입니다. \n",
    ">\n",
    "> 양의 정수를 입력받아 삼각수에 해당하는지 확인하는 함수 `is_triangular`를 작성하세요.\n",
    "\n",
    "---\n",
    "예시)\n",
    "```python\n",
    "print(is_triangular(5050))\n",
    "print(is_triangular(57))\n",
    "\n",
    "True\n",
    "False\n",
    "```"
   ]
  },
  {
   "cell_type": "code",
   "execution_count": null,
   "metadata": {},
   "outputs": [],
   "source": [
    "# 아래에 코드를 작성하세요."
   ]
  },
  {
   "cell_type": "code",
   "execution_count": 12,
   "metadata": {},
   "outputs": [],
   "source": [
    "def is_triangular(num):\n",
    "    i = 1\n",
    "    \n",
    "    while sum(range(i+1)) < num:\n",
    "        i += 1\n",
    "    \n",
    "    return sum(range(i+1)) == num"
   ]
  },
  {
   "cell_type": "code",
   "execution_count": 13,
   "metadata": {},
   "outputs": [],
   "source": [
    "def is_triangular(num):\n",
    "    i = 1\n",
    "    \n",
    "    # num이 커지면 위의 코드와 속도차이가 엄청 많이남!!\n",
    "    while i*(i+1) // 2 < num:\n",
    "        i += 1\n",
    "    \n",
    "    return i*(i+1) // 2  == num"
   ]
  },
  {
   "cell_type": "code",
   "execution_count": 14,
   "metadata": {},
   "outputs": [
    {
     "name": "stdout",
     "output_type": "stream",
     "text": [
      "True\n",
      "False\n"
     ]
    }
   ],
   "source": [
    "# 해당 코드를 통해 올바른 결과가 나오는지 확인하세요.\n",
    "print(is_triangular(5050))  # True \n",
    "print(is_triangular(57))    # False\n",
    "\n",
    "# 1번코드 [sum(range())] 와 2번코드 [i*(i+1) // 2] 의 속도차이 비교해보기!\n",
    "# print(is_triangular(10e10))  # False"
   ]
  },
  {
   "cell_type": "markdown",
   "metadata": {},
   "source": [
    "# 나만의 딕셔너리 생성기\n",
    "\n",
    "> key의 리스트와 value의 리스트로 딕셔너리를 생성하여 return 하는 함수 `create_dict(keys, values)`를 작성하세요.\n",
    ">\n",
    ">만약에 value의 갯수가 key의 갯수보다 부족한 경우, None을 채워 넣어야 합니다. 반대로 key의 갯수가 부족한 경우, 초과하는 value들은 무시해도 됩니다.\n",
    "\n",
    "---\n",
    "예시)\n",
    "\n",
    "```python\n",
    "print(create_dict(['a', 'b', 'c', 'd'], [1, 2, 3]))\n",
    "print(create_dict(['a', 'b', 'c'], [1, 2, 3, 4]))\n",
    "\n",
    "{'a': 1, 'b': 2, 'c': 3, 'd': None}\n",
    "{'a': 1, 'b': 2, 'c': 3}\n",
    "```"
   ]
  },
  {
   "cell_type": "code",
   "execution_count": null,
   "metadata": {},
   "outputs": [],
   "source": [
    "# 아래에 코드를 작성하세요."
   ]
  },
  {
   "cell_type": "code",
   "execution_count": 16,
   "metadata": {},
   "outputs": [],
   "source": [
    "def create_dict(keys, values):\n",
    "    answer = {}\n",
    "    \n",
    "    # key 는 무조건 모두 소비해야 함! => keys 만큼 반복\n",
    "    for idx in range(len(keys)):\n",
    "        # key 뽑기\n",
    "        k = keys[idx]\n",
    "        # values 가 더 적을 경우 대비하여 idx 확인 => k-v 가 매칭 될 경우에만\n",
    "        if idx < len(values):\n",
    "            # value 뽑기\n",
    "            v = values[idx]\n",
    "            # answer에 k:v 페어 추가\n",
    "            answer[k] = v\n",
    "        # 나머지 경우는 key 개수가 value 개수보다 많다는 뜻.\n",
    "        else:\n",
    "            # None 으로 Value 설정\n",
    "            answer[k] = None\n",
    "            \n",
    "    return answer"
   ]
  },
  {
   "cell_type": "code",
   "execution_count": 17,
   "metadata": {},
   "outputs": [
    {
     "name": "stdout",
     "output_type": "stream",
     "text": [
      "{'a': 1, 'b': 2, 'c': 3, 'd': None}\n",
      "{'a': 1, 'b': 2, 'c': 3}\n"
     ]
    }
   ],
   "source": [
    "# 해당 코드를 통해 올바른 결과가 나오는지 확인하세요.\n",
    "print(create_dict(['a', 'b', 'c', 'd'], [1, 2, 3]))\n",
    "print(create_dict(['a', 'b', 'c'], [1, 2, 3, 4]))"
   ]
  },
  {
   "cell_type": "markdown",
   "metadata": {},
   "source": [
    "# 딕셔너리 뒤집기\n",
    "\n",
    "> 딕셔너리는 기본적으로 key와 value로 이뤄져있습니다. \n",
    ">\n",
    "> 딕셔너리를 입력받아 value와 key를 뒤집은 결과를 반환하는 함수 `dict_invert`를 작성하세요. \n",
    "\n",
    "---\n",
    "\n",
    "예시)\n",
    "\n",
    "```python\n",
    "print(dict_invert({1: 10, 2: 20, 3: 30}))\n",
    "print(dict_invert({1: 10, 2: 20, 3: 30, 4: 30}))\n",
    "print(dict_invert({1: True, 2: True, 3: True}))\n",
    "\n",
    "{10: [1], 20: [2], 30: [3]}\n",
    "{10: [1], 20: [2], 30: [3, 4]}\n",
    "{True: [1, 2, 3]}\n",
    "```"
   ]
  },
  {
   "cell_type": "code",
   "execution_count": null,
   "metadata": {},
   "outputs": [],
   "source": [
    "# 아래에 코드를 작성하세요."
   ]
  },
  {
   "cell_type": "code",
   "execution_count": 18,
   "metadata": {},
   "outputs": [],
   "source": [
    "def dict_invert(original_dict):\n",
    "    answer = {}\n",
    "    for k, v in original_dict.items():\n",
    "        # answer dict에 이미 v에 해당하는 키가 있으면\n",
    "        if answer.get(v):\n",
    "            # answer[v] 에 해당하는 리스트에 k 추가\n",
    "            answer[v].append(k)\n",
    "        else:\n",
    "            # answer에 v: [k] 페어 추가\n",
    "            answer[v] = [k]\n",
    "    \n",
    "    return answer "
   ]
  },
  {
   "cell_type": "code",
   "execution_count": 19,
   "metadata": {},
   "outputs": [
    {
     "name": "stdout",
     "output_type": "stream",
     "text": [
      "{10: [1], 20: [2], 30: [3]}\n",
      "{10: [1], 20: [2], 30: [3, 4]}\n",
      "{True: [1, 2, 3]}\n"
     ]
    }
   ],
   "source": [
    "# 해당 코드를 통해 올바른 결과가 나오는지 확인하세요.\n",
    "print(dict_invert({1: 10, 2: 20, 3: 30}))\n",
    "print(dict_invert({1: 10, 2: 20, 3: 30, 4: 30}))\n",
    "print(dict_invert({1: True, 2: True, 3: True}))"
   ]
  },
  {
   "cell_type": "markdown",
   "metadata": {},
   "source": [
    "# 시험 채점 시스템\n",
    "\n",
    "> 첫 번째 인자는 정답이 들어있는 리스트, 두 번째 인자는 사용자의 답이 들어있는 리스트입니다. 두 리스트는 비어있지 않으며 길이가 같습니다.\n",
    ">\n",
    "> 정답의 경우 +4점, 오답의 경우 -1점, 공백 응답(빈 문자열)의 경우 0점입니다. 만약, 점수가 0보다 작으면 0을 return 합니다.\n",
    ">\n",
    "> 위와 같이 시험 점수를 체크하는 함수 `check_score(real_answers, my_answers)`을 작성하세요.\n",
    "\n",
    "---\n",
    "\n",
    "예시)\n",
    "\n",
    "```python\n",
    "print(check_score(['a', 'a', 'b', 'b'], ['a', 'c', 'b', 'd']))\n",
    "print(check_score(['a', 'a', 'c', 'b'], ['a', 'a', 'b', '']))\n",
    "print(check_score(['a', 'a', 'b', 'c'], ['a', 'a', 'b', 'c']))\n",
    "print(check_score(['b', 'c', 'b', 'a'], ['', 'a', 'a', 'c'])\n",
    "\n",
    "6\n",
    "7\n",
    "16\n",
    "0\n",
    "```"
   ]
  },
  {
   "cell_type": "code",
   "execution_count": null,
   "metadata": {},
   "outputs": [],
   "source": [
    "# 아래에 코드를 작성하세요."
   ]
  },
  {
   "cell_type": "code",
   "execution_count": 20,
   "metadata": {},
   "outputs": [],
   "source": [
    "def check_score(real_answers, my_answers):\n",
    "    score = 0\n",
    "    \n",
    "    # 두개의 리스트에서 동시에 같은 위치의 요소를 빼야하기 때문에\n",
    "    # idx 활용!\n",
    "    for idx in range(len(real_answers)):\n",
    "        # 정답, 내답\n",
    "        real, my = real_answers[idx], my_answers[idx]\n",
    "        \n",
    "        # 빈 문자열은 False로 평가. not '' => True 로 평가\n",
    "        \n",
    "        # 빈 문자열이면\n",
    "        if not my:\n",
    "            # 점수 가감없음\n",
    "            continue\n",
    "            \n",
    "        # 오답이면 -1\n",
    "        elif real != my:\n",
    "            score -= 1\n",
    "            \n",
    "        # 그 외 => 맞추면 +4\n",
    "        else:\n",
    "            score += 4\n",
    "    \n",
    "    # 양수면 점수 리턴, 음수면 0 리턴\n",
    "    return score if score > 0 else 0"
   ]
  },
  {
   "cell_type": "code",
   "execution_count": null,
   "metadata": {},
   "outputs": [],
   "source": [
    "# 해당 코드를 통해 올바른 결과가 나오는지 확인하세요.\n",
    "print(check_score(['a', 'a', 'b', 'b'], ['a', 'c', 'b', 'd']))\n",
    "print(check_score(['a', 'a', 'c', 'b'], ['a', 'a', 'b', '']))\n",
    "print(check_score(['a', 'a', 'b', 'c'], ['a', 'a', 'b', 'c']))\n",
    "print(check_score(['b', 'c', 'b', 'a'], ['', 'a', 'a', 'c']))"
   ]
  }
 ],
 "metadata": {
  "kernelspec": {
   "display_name": "Python 3 (ipykernel)",
   "language": "python",
   "name": "python3"
  },
  "language_info": {
   "codemirror_mode": {
    "name": "ipython",
    "version": 3
   },
   "file_extension": ".py",
   "mimetype": "text/x-python",
   "name": "python",
   "nbconvert_exporter": "python",
   "pygments_lexer": "ipython3",
   "version": "3.10.10"
  },
  "latex_envs": {
   "LaTeX_envs_menu_present": true,
   "autoclose": false,
   "autocomplete": true,
   "bibliofile": "biblio.bib",
   "cite_by": "apalike",
   "current_citInitial": 1,
   "eqLabelWithNumbers": true,
   "eqNumInitial": 1,
   "hotkeys": {
    "equation": "Ctrl-E",
    "itemize": "Ctrl-I"
   },
   "labels_anchors": false,
   "latex_user_defs": false,
   "report_style_numbering": false,
   "user_envs_cfg": false
  },
  "toc": {
   "base_numbering": 1,
   "nav_menu": {},
   "number_sections": true,
   "sideBar": true,
   "skip_h1_title": false,
   "title_cell": "Table of Contents",
   "title_sidebar": "Contents",
   "toc_cell": false,
   "toc_position": {},
   "toc_section_display": true,
   "toc_window_display": false
  },
  "vscode": {
   "interpreter": {
    "hash": "51d354aa4721e008858a28cad10f7efbfd288bcf50ac31411bfc117a31ae17c9"
   }
  }
 },
 "nbformat": 4,
 "nbformat_minor": 4
}
